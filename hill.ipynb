{
  "nbformat": 4,
  "nbformat_minor": 0,
  "metadata": {
    "colab": {
      "provenance": [],
      "authorship_tag": "ABX9TyMOCmOJhsYhARa2PCFwaApz",
      "include_colab_link": true
    },
    "kernelspec": {
      "name": "python3",
      "display_name": "Python 3"
    },
    "language_info": {
      "name": "python"
    }
  },
  "cells": [
    {
      "cell_type": "markdown",
      "metadata": {
        "id": "view-in-github",
        "colab_type": "text"
      },
      "source": [
        "<a href=\"https://colab.research.google.com/github/diajengtriana/uaskriptografi/blob/main/hill.ipynb\" target=\"_parent\"><img src=\"https://colab.research.google.com/assets/colab-badge.svg\" alt=\"Open In Colab\"/></a>"
      ]
    },
    {
      "cell_type": "code",
      "execution_count": null,
      "metadata": {
        "id": "fxtd_bu8YlFL"
      },
      "outputs": [],
      "source": [
        "import numpy as np\n",
        "\n",
        "def egcd(a, b):\n",
        "    if a == 0:\n",
        "        return (b, 0, 1)\n",
        "    else:\n",
        "        g, y, x = egcd(b % a, a)\n",
        "        return (g, x - (b // a) * y, y)\n",
        "\n",
        "def mod_inverse(a, m):\n",
        "    g, x, y = egcd(a, m)\n",
        "    if g != 1:\n",
        "        raise Exception('Modular inverse does not exist')\n",
        "    else:\n",
        "        return x % m\n",
        "\n",
        "def hill_cipher(text, key):\n",
        "    key = np.array(key)\n",
        "    if key.shape[0] != key.shape[1]:\n",
        "        raise Exception('Key matrix must be square')\n",
        "\n",
        "    n = key.shape[0]\n",
        "    text = text.replace(\" \", \"\").upper()\n",
        "\n",
        "    while len(text) % n != 0:\n",
        "        text += 'X'\n",
        "\n",
        "    ciphertext = ''\n",
        "    for i in range(0, len(text), n):\n",
        "        block = text[i:i+n]\n",
        "        block_indices = [ord(char) - ord('A') for char in block]\n",
        "        block_vector = np.array(block_indices)\n",
        "        result_vector = np.dot(key, block_vector) % 26\n",
        "        result_block = ''.join([chr(result + ord('A')) for result in result_vector])\n",
        "        ciphertext += result_block\n",
        "\n",
        "    return ciphertext\n",
        "\n",
        "def decrypt_hill_cipher(ciphertext, key):\n",
        "    key = np.array(key)\n",
        "    if key.shape[0] != key.shape[1]:\n",
        "        raise Exception('Key matrix must be square')\n",
        "\n",
        "    key_inverse = np.array([[mod_inverse(key[i][j], 26) for j in range(key.shape[1])] for i in range(key.shape[0])])\n",
        "\n",
        "    n = key.shape[0]\n",
        "    text = ''\n",
        "    for i in range(0, len(ciphertext), n):\n",
        "        block = ciphertext[i:i+n]\n",
        "        block_indices = [ord(char) - ord('A') for char in block]\n",
        "        block_vector = np.array(block_indices)\n",
        "        result_vector = np.dot(key_inverse, block_vector) % 26\n",
        "        result_block = ''.join([chr(result + ord('A')) for result in result_vector])\n",
        "        text += result_block\n",
        "\n",
        "    return text\n",
        "\n",
        "# Contoh penggunaan\n",
        "key = [[6, 24, 1], [13, 16, 10], [20, 17, 15]]\n",
        "plaintext = \"HELLOHILL\"\n",
        "encrypted_text = hill_cipher(plaintext, key)\n",
        "print(\"Teks Terenkripsi:\", encrypted_text)\n",
        "\n",
        "decrypted_text = decrypt_hill_cipher(encrypted_text, key)\n",
        "print(\"Teks Terdekripsi:\", decrypted_text)"
      ]
    }
  ]
}