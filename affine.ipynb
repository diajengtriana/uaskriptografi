{
  "nbformat": 4,
  "nbformat_minor": 0,
  "metadata": {
    "colab": {
      "provenance": [],
      "authorship_tag": "ABX9TyMxsL4Wzazbx4CtuNptz2LA",
      "include_colab_link": true
    },
    "kernelspec": {
      "name": "python3",
      "display_name": "Python 3"
    },
    "language_info": {
      "name": "python"
    }
  },
  "cells": [
    {
      "cell_type": "markdown",
      "metadata": {
        "id": "view-in-github",
        "colab_type": "text"
      },
      "source": [
        "<a href=\"https://colab.research.google.com/github/diajengtriana/uaskriptografi/blob/main/affine.ipynb\" target=\"_parent\"><img src=\"https://colab.research.google.com/assets/colab-badge.svg\" alt=\"Open In Colab\"/></a>"
      ]
    },
    {
      "cell_type": "code",
      "execution_count": null,
      "metadata": {
        "id": "iUe6iLCqXwOO",
        "colab": {
          "base_uri": "https://localhost:8080/"
        },
        "outputId": "b25c997b-903d-4080-b666-0b1481685164"
      },
      "outputs": [
        {
          "output_type": "stream",
          "name": "stdout",
          "text": [
            "Plaintext: pelita bangsa\n",
            "Encrypted text: fclwzi nivmui\n"
          ]
        }
      ],
      "source": [
        "def mod_inverse(a, m):\n",
        "    # Fungsi untuk mencari invers modulo dari a mod m\n",
        "    for i in range(1, m):\n",
        "        if (a * i) % m == 1:\n",
        "            return i\n",
        "    return None\n",
        "\n",
        "def affine_encrypt(text, a, b):\n",
        "    # Fungsi untuk mengenkripsi teks menggunakan affine cipher\n",
        "    result = \"\"\n",
        "    m = 26  # Panjang alfabet (jika hanya huruf kecil)\n",
        "\n",
        "    for char in text:\n",
        "        if char.isalpha():\n",
        "            # Hanya enkripsi huruf, abaikan karakter lainnya\n",
        "            if char.isupper():\n",
        "                result += chr((a * (ord(char) - 65) + b) % m + 65)\n",
        "            elif char.islower():\n",
        "                result += chr((a * (ord(char) - 97) + b) % m + 97)\n",
        "        else:\n",
        "            result += char\n",
        "\n",
        "    return result\n",
        "\n",
        "def main():\n",
        "    # Contoh penggunaan\n",
        "    plaintext = \"pelita bangsa\"\n",
        "    a = 5\n",
        "    b = 8\n",
        "\n",
        "    encrypted_text = affine_encrypt(plaintext, a, b)\n",
        "    print(\"Plaintext:\", plaintext)\n",
        "    print(\"Encrypted text:\", encrypted_text)\n",
        "\n",
        "if __name__ == \"__main__\":\n",
        "    main()\n"
      ]
    }
  ]
}