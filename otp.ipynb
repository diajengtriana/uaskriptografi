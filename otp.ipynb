{
  "nbformat": 4,
  "nbformat_minor": 0,
  "metadata": {
    "colab": {
      "provenance": [],
      "authorship_tag": "ABX9TyMsxqEDWbcOPUAACdWlG6ds",
      "include_colab_link": true
    },
    "kernelspec": {
      "name": "python3",
      "display_name": "Python 3"
    },
    "language_info": {
      "name": "python"
    }
  },
  "cells": [
    {
      "cell_type": "markdown",
      "metadata": {
        "id": "view-in-github",
        "colab_type": "text"
      },
      "source": [
        "<a href=\"https://colab.research.google.com/github/diajengtriana/uaskriptografi/blob/main/otp.ipynb\" target=\"_parent\"><img src=\"https://colab.research.google.com/assets/colab-badge.svg\" alt=\"Open In Colab\"/></a>"
      ]
    },
    {
      "cell_type": "code",
      "execution_count": null,
      "metadata": {
        "colab": {
          "base_uri": "https://localhost:8080/"
        },
        "id": "tL73C_V33qdt",
        "outputId": "6b977936-bc42-493f-ee6d-103c09a64f2d"
      },
      "outputs": [
        {
          "output_type": "stream",
          "name": "stdout",
          "text": [
            "Encrypted Text: %\u001c\u001f\t\f^E#\u0004\u0017\u0015\tX\n",
            "Decrypted Text: Hello, World!\n"
          ]
        }
      ],
      "source": [
        "def one_time_pad_encrypt(plaintext, key):\n",
        "    ciphertext = \"\"\n",
        "    for i in range(len(plaintext)):\n",
        "        char = plaintext[i]\n",
        "        key_char = key[i % len(key)]\n",
        "        # XOR operation\n",
        "        ciphertext += chr(ord(char) ^ ord(key_char))\n",
        "    return ciphertext\n",
        "\n",
        "def one_time_pad_decrypt(ciphertext, key):\n",
        "    return one_time_pad_encrypt(ciphertext, key)\n",
        "\n",
        "# Example usage:\n",
        "plaintext = \"Hello, World!\"\n",
        "secret_key = \"mysecretkey\"\n",
        "\n",
        "# Encrypt the plaintext\n",
        "encrypted_text = one_time_pad_encrypt(plaintext, secret_key)\n",
        "print(\"Encrypted Text:\", encrypted_text)\n",
        "\n",
        "# Decrypt the ciphertext\n",
        "decrypted_text = one_time_pad_decrypt(encrypted_text, secret_key)\n",
        "print(\"Decrypted Text:\", decrypted_text)"
      ]
    }
  ]
}