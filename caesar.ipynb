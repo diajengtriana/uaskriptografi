{
  "nbformat": 4,
  "nbformat_minor": 0,
  "metadata": {
    "colab": {
      "provenance": [],
      "authorship_tag": "ABX9TyNRM65wcv7tarwrbtdzrTkZ",
      "include_colab_link": true
    },
    "kernelspec": {
      "name": "python3",
      "display_name": "Python 3"
    },
    "language_info": {
      "name": "python"
    }
  },
  "cells": [
    {
      "cell_type": "markdown",
      "metadata": {
        "id": "view-in-github",
        "colab_type": "text"
      },
      "source": [
        "<a href=\"https://colab.research.google.com/github/diajengtriana/uaskriptografi/blob/main/caesar.ipynb\" target=\"_parent\"><img src=\"https://colab.research.google.com/assets/colab-badge.svg\" alt=\"Open In Colab\"/></a>"
      ]
    },
    {
      "cell_type": "code",
      "execution_count": null,
      "metadata": {
        "id": "6a556YRDYG6Y",
        "outputId": "2b51818f-0a4a-43cc-e16c-89d0466c5f7b",
        "colab": {
          "base_uri": "https://localhost:8080/"
        }
      },
      "outputs": [
        {
          "output_type": "stream",
          "name": "stdout",
          "text": [
            "Plaintext: bangsa\n",
            "Ciphertext (Caesar Cipher): jivoai\n"
          ]
        }
      ],
      "source": [
        "def caesar_cipher(plain_text, shift):\n",
        "    cipher_text = \"\"\n",
        "    for char in plain_text:\n",
        "        if char.isalpha():\n",
        "            base = ord('A') if char.isupper() else ord('a')\n",
        "            cipher_text += chr((ord(char) - base + shift) % 26 + base)\n",
        "        else:\n",
        "            cipher_text += char\n",
        "    return cipher_text\n",
        "\n",
        "# Contoh penggunaan:\n",
        "plain_text_caesar = \"bangsa\"\n",
        "shift_caesar = 8\n",
        "cipher_text_caesar = caesar_cipher(plain_text_caesar, shift_caesar)\n",
        "print(f\"Plaintext: {plain_text_caesar}\")\n",
        "print(f\"Ciphertext (Caesar Cipher): {cipher_text_caesar}\")\n"
      ]
    }
  ]
}