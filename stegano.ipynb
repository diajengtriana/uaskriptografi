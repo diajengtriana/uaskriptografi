{
  "nbformat": 4,
  "nbformat_minor": 0,
  "metadata": {
    "colab": {
      "provenance": [],
      "authorship_tag": "ABX9TyPDPLTy7b/o2srJbxxjPAy1",
      "include_colab_link": true
    },
    "kernelspec": {
      "name": "python3",
      "display_name": "Python 3"
    },
    "language_info": {
      "name": "python"
    }
  },
  "cells": [
    {
      "cell_type": "markdown",
      "metadata": {
        "id": "view-in-github",
        "colab_type": "text"
      },
      "source": [
        "<a href=\"https://colab.research.google.com/github/diajengtriana/uaskriptografi/blob/main/stegano.ipynb\" target=\"_parent\"><img src=\"https://colab.research.google.com/assets/colab-badge.svg\" alt=\"Open In Colab\"/></a>"
      ]
    },
    {
      "cell_type": "code",
      "execution_count": null,
      "metadata": {
        "id": "RqHVTS5Gwpzm"
      },
      "outputs": [],
      "source": [
        "# Install modul stegano\n",
        "!pip install stegano\n",
        "\n",
        "from google.colab import files\n",
        "from stegano import lsb\n",
        "from PIL import Image\n",
        "\n",
        "# Fungsi untuk mengunggah file gambar\n",
        "def upload_image():\n",
        "    uploaded = files.upload()\n",
        "    file_name = list(uploaded.keys())[0]\n",
        "    return file_name\n",
        "\n",
        "# Mengunggah file gambar\n",
        "image_file = upload_image()\n",
        "\n",
        "# Mengekstrak pesan rahasia dari gambar hasil steganografi\n",
        "revealed_message = lsb.reveal(Image.open(image_file))\n",
        "\n",
        "# Menampilkan pesan rahasia yang diekstrak\n",
        "print(\"Pesan rahasia yang diekstrak:\", revealed_message)"
      ]
    }
  ]
}