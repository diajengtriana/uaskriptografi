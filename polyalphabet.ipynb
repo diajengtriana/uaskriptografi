{
  "nbformat": 4,
  "nbformat_minor": 0,
  "metadata": {
    "colab": {
      "provenance": [],
      "authorship_tag": "ABX9TyMI2Cj05WvEsZoD9FrwHh3u",
      "include_colab_link": true
    },
    "kernelspec": {
      "name": "python3",
      "display_name": "Python 3"
    },
    "language_info": {
      "name": "python"
    }
  },
  "cells": [
    {
      "cell_type": "markdown",
      "metadata": {
        "id": "view-in-github",
        "colab_type": "text"
      },
      "source": [
        "<a href=\"https://colab.research.google.com/github/diajengtriana/uaskriptografi/blob/main/polyalphabet.ipynb\" target=\"_parent\"><img src=\"https://colab.research.google.com/assets/colab-badge.svg\" alt=\"Open In Colab\"/></a>"
      ]
    },
    {
      "cell_type": "code",
      "execution_count": null,
      "metadata": {
        "id": "rkg6QJbgZLVU",
        "outputId": "ddfbb061-6fdb-4c90-8e1b-9e3cf43a6b90",
        "colab": {
          "base_uri": "https://localhost:8080/"
        }
      },
      "outputs": [
        {
          "output_type": "stream",
          "name": "stdout",
          "text": [
            "Plaintext: diajeng\n",
            "Key: triana\n",
            "Ciphertext: WZIJRNZ\n",
            "Decrypted text: DIAJENG\n"
          ]
        }
      ],
      "source": [
        "def encrypt_polyalphabetic(plain_text, key):\n",
        "    # Mengonversi teks dan kunci ke huruf besar\n",
        "    plain_text = plain_text.upper()\n",
        "    key = key.upper()\n",
        "\n",
        "    # Membuat kunci yang panjangnya sama dengan panjang plaintext\n",
        "    key_repeated = (key * (len(plain_text) // len(key) + 1))[:len(plain_text)]\n",
        "\n",
        "    # Menginisialisasi variabel untuk menyimpan hasil cipher\n",
        "    cipher_text = ''\n",
        "\n",
        "    # Melakukan enkripsi karakter demi karakter\n",
        "    for i in range(len(plain_text)):\n",
        "        if plain_text[i].isalpha():\n",
        "            # Menghitung indeks karakter cipher\n",
        "            cipher_char = chr(((ord(plain_text[i]) + ord(key_repeated[i])) % 26) + ord('A'))\n",
        "            cipher_text += cipher_char\n",
        "        else:\n",
        "            # Menambahkan karakter non-alphabet tanpa melakukan enkripsi\n",
        "            cipher_text += plain_text[i]\n",
        "\n",
        "    return cipher_text\n",
        "\n",
        "def decrypt_polyalphabetic(cipher_text, key):\n",
        "    # Mengonversi teks dan kunci ke huruf besar\n",
        "    cipher_text = cipher_text.upper()\n",
        "    key = key.upper()\n",
        "\n",
        "    # Membuat kunci yang panjangnya sama dengan panjang ciphertext\n",
        "    key_repeated = (key * (len(cipher_text) // len(key) + 1))[:len(cipher_text)]\n",
        "\n",
        "    # Menginisialisasi variabel untuk menyimpan hasil dekripsi\n",
        "    decrypted_text = ''\n",
        "\n",
        "    # Melakukan dekripsi karakter demi karakter\n",
        "    for i in range(len(cipher_text)):\n",
        "        if cipher_text[i].isalpha():\n",
        "            # Menghitung indeks karakter plaintext\n",
        "            decrypted_char = chr(((ord(cipher_text[i]) - ord(key_repeated[i])) % 26) + ord('A'))\n",
        "            decrypted_text += decrypted_char\n",
        "        else:\n",
        "            # Menambahkan karakter non-alphabet tanpa melakukan dekripsi\n",
        "            decrypted_text += cipher_text[i]\n",
        "\n",
        "    return decrypted_text\n",
        "\n",
        "# Contoh penggunaan:\n",
        "plain_text = \"diajeng\"\n",
        "key = \"triana\"\n",
        "\n",
        "cipher_text = encrypt_polyalphabetic(plain_text, key)\n",
        "print(f\"Plaintext: {plain_text}\")\n",
        "print(f\"Key: {key}\")\n",
        "print(f\"Ciphertext: {cipher_text}\")\n",
        "\n",
        "decrypted_text = decrypt_polyalphabetic(cipher_text, key)\n",
        "print(f\"Decrypted text: {decrypted_text}\")\n"
      ]
    }
  ]
}