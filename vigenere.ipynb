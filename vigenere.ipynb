{
  "nbformat": 4,
  "nbformat_minor": 0,
  "metadata": {
    "colab": {
      "provenance": [],
      "authorship_tag": "ABX9TyMQimWE+11+h7GJHxGsb7sQ",
      "include_colab_link": true
    },
    "kernelspec": {
      "name": "python3",
      "display_name": "Python 3"
    },
    "language_info": {
      "name": "python"
    }
  },
  "cells": [
    {
      "cell_type": "markdown",
      "metadata": {
        "id": "view-in-github",
        "colab_type": "text"
      },
      "source": [
        "<a href=\"https://colab.research.google.com/github/diajengtriana/uaskriptografi/blob/main/vigenere.ipynb\" target=\"_parent\"><img src=\"https://colab.research.google.com/assets/colab-badge.svg\" alt=\"Open In Colab\"/></a>"
      ]
    },
    {
      "cell_type": "code",
      "execution_count": null,
      "metadata": {
        "id": "N_pzItrzZeef",
        "outputId": "535a8e18-0845-478e-9b5c-e7d341fbe9b9",
        "colab": {
          "base_uri": "https://localhost:8080/"
        }
      },
      "outputs": [
        {
          "output_type": "stream",
          "name": "stdout",
          "text": [
            "Masukkan plaintext: pelitabangsa\n",
            "Masukkan kunci: megah\n",
            "Ciphertext: BIRIAMFGNNEE\n",
            "Plaintext setelah didekripsi: PELITABANGSA\n"
          ]
        }
      ],
      "source": [
        "def vigenere_encrypt(plaintext, key):\n",
        "    plaintext = plaintext.upper()\n",
        "    key = key.upper()\n",
        "    ciphertext = ''\n",
        "\n",
        "    for i in range(len(plaintext)):\n",
        "        if plaintext[i] == ' ':\n",
        "            # Jika karakter adalah spasi, biarkan tetap spasi\n",
        "            ciphertext += ' '\n",
        "        else:\n",
        "            # Menggunakan rumus Vigenere Cipher untuk mengenkripsi karakter\n",
        "            char = chr((ord(plaintext[i]) + ord(key[i % len(key)]) - 2 * ord('A')) % 26 + ord('A'))\n",
        "            ciphertext += char\n",
        "\n",
        "    return ciphertext\n",
        "\n",
        "\n",
        "def vigenere_decrypt(ciphertext, key):\n",
        "    ciphertext = ciphertext.upper()\n",
        "    key = key.upper()\n",
        "    plaintext = ''\n",
        "\n",
        "    for i in range(len(ciphertext)):\n",
        "        if ciphertext[i] == ' ':\n",
        "            # Jika karakter adalah spasi, biarkan tetap spasi\n",
        "            plaintext += ' '\n",
        "        else:\n",
        "            # Menggunakan rumus Vigenere Cipher untuk mendekripsi karakter\n",
        "            char = chr((ord(ciphertext[i]) - ord(key[i % len(key)])) % 26 + ord('A'))\n",
        "            plaintext += char\n",
        "\n",
        "    return plaintext\n",
        "\n",
        "\n",
        "def main():\n",
        "    plaintext = input(\"Masukkan plaintext: \")\n",
        "    key = input(\"Masukkan kunci: \")\n",
        "\n",
        "    ciphertext = vigenere_encrypt(plaintext, key)\n",
        "    print(f\"Ciphertext: {ciphertext}\")\n",
        "\n",
        "    decrypted_text = vigenere_decrypt(ciphertext, key)\n",
        "    print(f\"Plaintext setelah didekripsi: {decrypted_text}\")\n",
        "\n",
        "\n",
        "if __name__ == \"__main__\":\n",
        "    main()\n"
      ]
    }
  ]
}